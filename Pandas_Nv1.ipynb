{
  "nbformat": 4,
  "nbformat_minor": 0,
  "metadata": {
    "colab": {
      "name": "Pandas Nv1.ipynb",
      "provenance": [],
      "collapsed_sections": [],
      "authorship_tag": "ABX9TyMdyK4Qhke8bSPnuYeefaYY",
      "include_colab_link": true
    },
    "kernelspec": {
      "name": "python3",
      "display_name": "Python 3"
    }
  },
  "cells": [
    {
      "cell_type": "markdown",
      "metadata": {
        "id": "view-in-github",
        "colab_type": "text"
      },
      "source": [
        "<a href=\"https://colab.research.google.com/github/andreyFernandoSoares/python-pandas/blob/main/Pandas_Nv1.ipynb\" target=\"_parent\"><img src=\"https://colab.research.google.com/assets/colab-badge.svg\" alt=\"Open In Colab\"/></a>"
      ]
    },
    {
      "cell_type": "markdown",
      "metadata": {
        "id": "Ciie7enxhjLD"
      },
      "source": [
        "# **Relatório de Analise I**"
      ]
    },
    {
      "cell_type": "code",
      "metadata": {
        "colab": {
          "base_uri": "https://localhost:8080/",
          "height": 419
        },
        "id": "WlNPX9Jad3rk",
        "outputId": "8bcc22cb-a85e-48c1-9c7d-ba19a64abe9a"
      },
      "source": [
        "import pandas as pd\n",
        "\n",
        "df = pd.read_csv('https://raw.githubusercontent.com/alura-cursos/introducao-a-data-science/master/aula0/ml-latest-small/movies.csv')\n",
        "\n",
        "df"
      ],
      "execution_count": 7,
      "outputs": [
        {
          "output_type": "execute_result",
          "data": {
            "text/html": [
              "<div>\n",
              "<style scoped>\n",
              "    .dataframe tbody tr th:only-of-type {\n",
              "        vertical-align: middle;\n",
              "    }\n",
              "\n",
              "    .dataframe tbody tr th {\n",
              "        vertical-align: top;\n",
              "    }\n",
              "\n",
              "    .dataframe thead th {\n",
              "        text-align: right;\n",
              "    }\n",
              "</style>\n",
              "<table border=\"1\" class=\"dataframe\">\n",
              "  <thead>\n",
              "    <tr style=\"text-align: right;\">\n",
              "      <th></th>\n",
              "      <th>movieId</th>\n",
              "      <th>title</th>\n",
              "      <th>genres</th>\n",
              "    </tr>\n",
              "  </thead>\n",
              "  <tbody>\n",
              "    <tr>\n",
              "      <th>0</th>\n",
              "      <td>1</td>\n",
              "      <td>Toy Story (1995)</td>\n",
              "      <td>Adventure|Animation|Children|Comedy|Fantasy</td>\n",
              "    </tr>\n",
              "    <tr>\n",
              "      <th>1</th>\n",
              "      <td>2</td>\n",
              "      <td>Jumanji (1995)</td>\n",
              "      <td>Adventure|Children|Fantasy</td>\n",
              "    </tr>\n",
              "    <tr>\n",
              "      <th>2</th>\n",
              "      <td>3</td>\n",
              "      <td>Grumpier Old Men (1995)</td>\n",
              "      <td>Comedy|Romance</td>\n",
              "    </tr>\n",
              "    <tr>\n",
              "      <th>3</th>\n",
              "      <td>4</td>\n",
              "      <td>Waiting to Exhale (1995)</td>\n",
              "      <td>Comedy|Drama|Romance</td>\n",
              "    </tr>\n",
              "    <tr>\n",
              "      <th>4</th>\n",
              "      <td>5</td>\n",
              "      <td>Father of the Bride Part II (1995)</td>\n",
              "      <td>Comedy</td>\n",
              "    </tr>\n",
              "    <tr>\n",
              "      <th>...</th>\n",
              "      <td>...</td>\n",
              "      <td>...</td>\n",
              "      <td>...</td>\n",
              "    </tr>\n",
              "    <tr>\n",
              "      <th>9737</th>\n",
              "      <td>193581</td>\n",
              "      <td>Black Butler: Book of the Atlantic (2017)</td>\n",
              "      <td>Action|Animation|Comedy|Fantasy</td>\n",
              "    </tr>\n",
              "    <tr>\n",
              "      <th>9738</th>\n",
              "      <td>193583</td>\n",
              "      <td>No Game No Life: Zero (2017)</td>\n",
              "      <td>Animation|Comedy|Fantasy</td>\n",
              "    </tr>\n",
              "    <tr>\n",
              "      <th>9739</th>\n",
              "      <td>193585</td>\n",
              "      <td>Flint (2017)</td>\n",
              "      <td>Drama</td>\n",
              "    </tr>\n",
              "    <tr>\n",
              "      <th>9740</th>\n",
              "      <td>193587</td>\n",
              "      <td>Bungo Stray Dogs: Dead Apple (2018)</td>\n",
              "      <td>Action|Animation</td>\n",
              "    </tr>\n",
              "    <tr>\n",
              "      <th>9741</th>\n",
              "      <td>193609</td>\n",
              "      <td>Andrew Dice Clay: Dice Rules (1991)</td>\n",
              "      <td>Comedy</td>\n",
              "    </tr>\n",
              "  </tbody>\n",
              "</table>\n",
              "<p>9742 rows × 3 columns</p>\n",
              "</div>"
            ],
            "text/plain": [
              "      movieId  ...                                       genres\n",
              "0           1  ...  Adventure|Animation|Children|Comedy|Fantasy\n",
              "1           2  ...                   Adventure|Children|Fantasy\n",
              "2           3  ...                               Comedy|Romance\n",
              "3           4  ...                         Comedy|Drama|Romance\n",
              "4           5  ...                                       Comedy\n",
              "...       ...  ...                                          ...\n",
              "9737   193581  ...              Action|Animation|Comedy|Fantasy\n",
              "9738   193583  ...                     Animation|Comedy|Fantasy\n",
              "9739   193585  ...                                        Drama\n",
              "9740   193587  ...                             Action|Animation\n",
              "9741   193609  ...                                       Comedy\n",
              "\n",
              "[9742 rows x 3 columns]"
            ]
          },
          "metadata": {
            "tags": []
          },
          "execution_count": 7
        }
      ]
    },
    {
      "cell_type": "code",
      "metadata": {
        "colab": {
          "base_uri": "https://localhost:8080/"
        },
        "id": "jg0EHBEVe4Xz",
        "outputId": "22b9eaca-9db6-4cb9-eff4-6a13cc895510"
      },
      "source": [
        "type(df)"
      ],
      "execution_count": 8,
      "outputs": [
        {
          "output_type": "execute_result",
          "data": {
            "text/plain": [
              "pandas.core.frame.DataFrame"
            ]
          },
          "metadata": {
            "tags": []
          },
          "execution_count": 8
        }
      ]
    },
    {
      "cell_type": "code",
      "metadata": {
        "colab": {
          "base_uri": "https://localhost:8080/"
        },
        "id": "i8owtJfreFab",
        "outputId": "6958c8ea-1028-47dc-8284-4d7489098972"
      },
      "source": [
        "df.info()"
      ],
      "execution_count": 9,
      "outputs": [
        {
          "output_type": "stream",
          "text": [
            "<class 'pandas.core.frame.DataFrame'>\n",
            "RangeIndex: 9742 entries, 0 to 9741\n",
            "Data columns (total 3 columns):\n",
            " #   Column   Non-Null Count  Dtype \n",
            "---  ------   --------------  ----- \n",
            " 0   movieId  9742 non-null   int64 \n",
            " 1   title    9742 non-null   object\n",
            " 2   genres   9742 non-null   object\n",
            "dtypes: int64(1), object(2)\n",
            "memory usage: 228.5+ KB\n"
          ],
          "name": "stdout"
        }
      ]
    },
    {
      "cell_type": "code",
      "metadata": {
        "colab": {
          "base_uri": "https://localhost:8080/",
          "height": 204
        },
        "id": "kSK05ymWg-H6",
        "outputId": "e2194641-65c1-4fbf-9bdc-1f996b6f01e3"
      },
      "source": [
        "df.head()"
      ],
      "execution_count": 11,
      "outputs": [
        {
          "output_type": "execute_result",
          "data": {
            "text/html": [
              "<div>\n",
              "<style scoped>\n",
              "    .dataframe tbody tr th:only-of-type {\n",
              "        vertical-align: middle;\n",
              "    }\n",
              "\n",
              "    .dataframe tbody tr th {\n",
              "        vertical-align: top;\n",
              "    }\n",
              "\n",
              "    .dataframe thead th {\n",
              "        text-align: right;\n",
              "    }\n",
              "</style>\n",
              "<table border=\"1\" class=\"dataframe\">\n",
              "  <thead>\n",
              "    <tr style=\"text-align: right;\">\n",
              "      <th></th>\n",
              "      <th>movieId</th>\n",
              "      <th>title</th>\n",
              "      <th>genres</th>\n",
              "    </tr>\n",
              "  </thead>\n",
              "  <tbody>\n",
              "    <tr>\n",
              "      <th>0</th>\n",
              "      <td>1</td>\n",
              "      <td>Toy Story (1995)</td>\n",
              "      <td>Adventure|Animation|Children|Comedy|Fantasy</td>\n",
              "    </tr>\n",
              "    <tr>\n",
              "      <th>1</th>\n",
              "      <td>2</td>\n",
              "      <td>Jumanji (1995)</td>\n",
              "      <td>Adventure|Children|Fantasy</td>\n",
              "    </tr>\n",
              "    <tr>\n",
              "      <th>2</th>\n",
              "      <td>3</td>\n",
              "      <td>Grumpier Old Men (1995)</td>\n",
              "      <td>Comedy|Romance</td>\n",
              "    </tr>\n",
              "    <tr>\n",
              "      <th>3</th>\n",
              "      <td>4</td>\n",
              "      <td>Waiting to Exhale (1995)</td>\n",
              "      <td>Comedy|Drama|Romance</td>\n",
              "    </tr>\n",
              "    <tr>\n",
              "      <th>4</th>\n",
              "      <td>5</td>\n",
              "      <td>Father of the Bride Part II (1995)</td>\n",
              "      <td>Comedy</td>\n",
              "    </tr>\n",
              "  </tbody>\n",
              "</table>\n",
              "</div>"
            ],
            "text/plain": [
              "   movieId  ...                                       genres\n",
              "0        1  ...  Adventure|Animation|Children|Comedy|Fantasy\n",
              "1        2  ...                   Adventure|Children|Fantasy\n",
              "2        3  ...                               Comedy|Romance\n",
              "3        4  ...                         Comedy|Drama|Romance\n",
              "4        5  ...                                       Comedy\n",
              "\n",
              "[5 rows x 3 columns]"
            ]
          },
          "metadata": {
            "tags": []
          },
          "execution_count": 11
        }
      ]
    },
    {
      "cell_type": "code",
      "metadata": {
        "colab": {
          "base_uri": "https://localhost:8080/"
        },
        "id": "uHdt_6v_iY12",
        "outputId": "992d935e-d599-4d42-d446-0e2ac9976750"
      },
      "source": [
        "df.dtypes"
      ],
      "execution_count": 22,
      "outputs": [
        {
          "output_type": "execute_result",
          "data": {
            "text/plain": [
              "movieId     int64\n",
              "title      object\n",
              "genres     object\n",
              "dtype: object"
            ]
          },
          "metadata": {
            "tags": []
          },
          "execution_count": 22
        }
      ]
    },
    {
      "cell_type": "code",
      "metadata": {
        "colab": {
          "base_uri": "https://localhost:8080/",
          "height": 142
        },
        "id": "Whw-1WMclXr4",
        "outputId": "3e6e04bf-5d6c-4c39-d7ac-23688752e089"
      },
      "source": [
        "tipos_de_dados = pd.DataFrame(df.dtypes, columns= ['Tipos de Dados'])\n",
        "\n",
        "tipos_de_dados.columns.name = 'Variaveis'\n",
        "\n",
        "tipos_de_dados"
      ],
      "execution_count": 26,
      "outputs": [
        {
          "output_type": "execute_result",
          "data": {
            "text/html": [
              "<div>\n",
              "<style scoped>\n",
              "    .dataframe tbody tr th:only-of-type {\n",
              "        vertical-align: middle;\n",
              "    }\n",
              "\n",
              "    .dataframe tbody tr th {\n",
              "        vertical-align: top;\n",
              "    }\n",
              "\n",
              "    .dataframe thead th {\n",
              "        text-align: right;\n",
              "    }\n",
              "</style>\n",
              "<table border=\"1\" class=\"dataframe\">\n",
              "  <thead>\n",
              "    <tr style=\"text-align: right;\">\n",
              "      <th>Variaveis</th>\n",
              "      <th>Tipos de Dados</th>\n",
              "    </tr>\n",
              "  </thead>\n",
              "  <tbody>\n",
              "    <tr>\n",
              "      <th>movieId</th>\n",
              "      <td>int64</td>\n",
              "    </tr>\n",
              "    <tr>\n",
              "      <th>title</th>\n",
              "      <td>object</td>\n",
              "    </tr>\n",
              "    <tr>\n",
              "      <th>genres</th>\n",
              "      <td>object</td>\n",
              "    </tr>\n",
              "  </tbody>\n",
              "</table>\n",
              "</div>"
            ],
            "text/plain": [
              "Variaveis Tipos de Dados\n",
              "movieId            int64\n",
              "title             object\n",
              "genres            object"
            ]
          },
          "metadata": {
            "tags": []
          },
          "execution_count": 26
        }
      ]
    },
    {
      "cell_type": "code",
      "metadata": {
        "colab": {
          "base_uri": "https://localhost:8080/"
        },
        "id": "Bo-m7_AylfaP",
        "outputId": "0e4f26df-ee56-4592-958d-548d83ef690b"
      },
      "source": [
        "df.shape"
      ],
      "execution_count": 27,
      "outputs": [
        {
          "output_type": "execute_result",
          "data": {
            "text/plain": [
              "(9742, 3)"
            ]
          },
          "metadata": {
            "tags": []
          },
          "execution_count": 27
        }
      ]
    },
    {
      "cell_type": "code",
      "metadata": {
        "colab": {
          "base_uri": "https://localhost:8080/"
        },
        "id": "JoILIOKIl8RQ",
        "outputId": "d0287449-668d-49ae-a36c-03cee2ccb784"
      },
      "source": [
        "df.shape[0]"
      ],
      "execution_count": 30,
      "outputs": [
        {
          "output_type": "execute_result",
          "data": {
            "text/plain": [
              "9742"
            ]
          },
          "metadata": {
            "tags": []
          },
          "execution_count": 30
        }
      ]
    },
    {
      "cell_type": "code",
      "metadata": {
        "colab": {
          "base_uri": "https://localhost:8080/"
        },
        "id": "rfJxMsNpmAtI",
        "outputId": "619fed00-fc16-4a7a-d2a4-7a1f56d27110"
      },
      "source": [
        "df.shape[1]"
      ],
      "execution_count": 31,
      "outputs": [
        {
          "output_type": "execute_result",
          "data": {
            "text/plain": [
              "3"
            ]
          },
          "metadata": {
            "tags": []
          },
          "execution_count": 31
        }
      ]
    },
    {
      "cell_type": "code",
      "metadata": {
        "colab": {
          "base_uri": "https://localhost:8080/"
        },
        "id": "HSZAFbvxmGwJ",
        "outputId": "6bceab14-f7f4-4acf-9ba8-17c023853053"
      },
      "source": [
        "print('A base de dados apresenta {} registros e {} variaveis'.format(df.shape[0], df.shape[1]))"
      ],
      "execution_count": 32,
      "outputs": [
        {
          "output_type": "stream",
          "text": [
            "A base de dados apresenta 9742 registros e 3 variaveis\n"
          ],
          "name": "stdout"
        }
      ]
    },
    {
      "cell_type": "code",
      "metadata": {
        "id": "ahHjc2XjmQ7w"
      },
      "source": [
        "# pd.read_json() -- para json\n",
        "# pd.read_table() -- para txt \n",
        "# pd.read_excel() -- para xlsx\n",
        "# pd.read_html() -- para html\n",
        "# pd.read_csv() -- para csv"
      ],
      "execution_count": 68,
      "outputs": []
    },
    {
      "cell_type": "code",
      "metadata": {
        "id": "xD7MirB1p_IO"
      },
      "source": [
        "df_html = pd.read_html('https://coinmarketcap.com/all/views/all/')"
      ],
      "execution_count": 65,
      "outputs": []
    },
    {
      "cell_type": "code",
      "metadata": {
        "colab": {
          "base_uri": "https://localhost:8080/",
          "height": 419
        },
        "id": "H_NaT_GcqDkf",
        "outputId": "e7859284-994e-45b1-da0f-172fdb1a9ae9"
      },
      "source": [
        "df_html[2]"
      ],
      "execution_count": 67,
      "outputs": [
        {
          "output_type": "execute_result",
          "data": {
            "text/html": [
              "<div>\n",
              "<style scoped>\n",
              "    .dataframe tbody tr th:only-of-type {\n",
              "        vertical-align: middle;\n",
              "    }\n",
              "\n",
              "    .dataframe tbody tr th {\n",
              "        vertical-align: top;\n",
              "    }\n",
              "\n",
              "    .dataframe thead th {\n",
              "        text-align: right;\n",
              "    }\n",
              "</style>\n",
              "<table border=\"1\" class=\"dataframe\">\n",
              "  <thead>\n",
              "    <tr style=\"text-align: right;\">\n",
              "      <th></th>\n",
              "      <th>Rank</th>\n",
              "      <th>Name</th>\n",
              "      <th>Symbol</th>\n",
              "      <th>Market Cap</th>\n",
              "      <th>Price</th>\n",
              "      <th>Circulating Supply</th>\n",
              "      <th>Volume (24h)</th>\n",
              "      <th>% 1h</th>\n",
              "      <th>% 24h</th>\n",
              "      <th>% 7d</th>\n",
              "      <th>Unnamed: 10</th>\n",
              "    </tr>\n",
              "  </thead>\n",
              "  <tbody>\n",
              "    <tr>\n",
              "      <th>0</th>\n",
              "      <td>1</td>\n",
              "      <td>Bitcoin</td>\n",
              "      <td>BTC</td>\n",
              "      <td>$357,372,317,187</td>\n",
              "      <td>$19,262.34</td>\n",
              "      <td>18,552,900 BTC</td>\n",
              "      <td>$56,074,405,956</td>\n",
              "      <td>0.81%</td>\n",
              "      <td>4.41%</td>\n",
              "      <td>13.43%</td>\n",
              "      <td>NaN</td>\n",
              "    </tr>\n",
              "    <tr>\n",
              "      <th>1</th>\n",
              "      <td>2</td>\n",
              "      <td>Ethereum</td>\n",
              "      <td>ETH</td>\n",
              "      <td>$68,445,357,975</td>\n",
              "      <td>$602.73</td>\n",
              "      <td>113,558,970 ETH</td>\n",
              "      <td>$26,645,778,387</td>\n",
              "      <td>1.07%</td>\n",
              "      <td>1.81%</td>\n",
              "      <td>28.91%</td>\n",
              "      <td>NaN</td>\n",
              "    </tr>\n",
              "    <tr>\n",
              "      <th>2</th>\n",
              "      <td>3</td>\n",
              "      <td>XRP</td>\n",
              "      <td>XRP</td>\n",
              "      <td>$30,244,543,224</td>\n",
              "      <td>$0.666940</td>\n",
              "      <td>45,348,221,180 XRP *</td>\n",
              "      <td>$31,054,626,106</td>\n",
              "      <td>9.02%</td>\n",
              "      <td>30.20%</td>\n",
              "      <td>121.80%</td>\n",
              "      <td>NaN</td>\n",
              "    </tr>\n",
              "    <tr>\n",
              "      <th>3</th>\n",
              "      <td>4</td>\n",
              "      <td>Tether</td>\n",
              "      <td>USDT</td>\n",
              "      <td>$18,649,472,997</td>\n",
              "      <td>$0.999731</td>\n",
              "      <td>18,654,483,312 USDT *</td>\n",
              "      <td>$107,225,828,233</td>\n",
              "      <td>-0.04%</td>\n",
              "      <td>0.05%</td>\n",
              "      <td>-0.05%</td>\n",
              "      <td>NaN</td>\n",
              "    </tr>\n",
              "    <tr>\n",
              "      <th>4</th>\n",
              "      <td>5</td>\n",
              "      <td>Bitcoin Cash</td>\n",
              "      <td>BCH</td>\n",
              "      <td>$6,337,441,486</td>\n",
              "      <td>$341.06</td>\n",
              "      <td>18,581,575 BCH</td>\n",
              "      <td>$8,582,159,035</td>\n",
              "      <td>3.29%</td>\n",
              "      <td>16.42%</td>\n",
              "      <td>35.16%</td>\n",
              "      <td>NaN</td>\n",
              "    </tr>\n",
              "    <tr>\n",
              "      <th>...</th>\n",
              "      <td>...</td>\n",
              "      <td>...</td>\n",
              "      <td>...</td>\n",
              "      <td>...</td>\n",
              "      <td>...</td>\n",
              "      <td>...</td>\n",
              "      <td>...</td>\n",
              "      <td>...</td>\n",
              "      <td>...</td>\n",
              "      <td>...</td>\n",
              "      <td>...</td>\n",
              "    </tr>\n",
              "    <tr>\n",
              "      <th>195</th>\n",
              "      <td>196</td>\n",
              "      <td>Orbs</td>\n",
              "      <td>ORBS</td>\n",
              "      <td>$30,784,205</td>\n",
              "      <td>$0.013805</td>\n",
              "      <td>2,229,950,518 ORBS *</td>\n",
              "      <td>$1,610,467</td>\n",
              "      <td>0.39%</td>\n",
              "      <td>3.21%</td>\n",
              "      <td>6.23%</td>\n",
              "      <td>NaN</td>\n",
              "    </tr>\n",
              "    <tr>\n",
              "      <th>196</th>\n",
              "      <td>197</td>\n",
              "      <td>LTO Network</td>\n",
              "      <td>LTO</td>\n",
              "      <td>$30,832,943</td>\n",
              "      <td>$0.112892</td>\n",
              "      <td>273,119,533 LTO *</td>\n",
              "      <td>$5,416,619</td>\n",
              "      <td>4.45%</td>\n",
              "      <td>1.27%</td>\n",
              "      <td>43.96%</td>\n",
              "      <td>NaN</td>\n",
              "    </tr>\n",
              "    <tr>\n",
              "      <th>197</th>\n",
              "      <td>198</td>\n",
              "      <td>Hxro</td>\n",
              "      <td>HXRO</td>\n",
              "      <td>$30,071,803</td>\n",
              "      <td>$0.167866</td>\n",
              "      <td>179,141,316 HXRO *</td>\n",
              "      <td>$347,866</td>\n",
              "      <td>-1.84%</td>\n",
              "      <td>-12.49%</td>\n",
              "      <td>-17.44%</td>\n",
              "      <td>NaN</td>\n",
              "    </tr>\n",
              "    <tr>\n",
              "      <th>198</th>\n",
              "      <td>199</td>\n",
              "      <td>Bytecoin</td>\n",
              "      <td>BCN</td>\n",
              "      <td>$29,914,866</td>\n",
              "      <td>$0.000163</td>\n",
              "      <td>184,066,828,814 BCN</td>\n",
              "      <td>$51,515</td>\n",
              "      <td>0.77%</td>\n",
              "      <td>11.85%</td>\n",
              "      <td>17.67%</td>\n",
              "      <td>NaN</td>\n",
              "    </tr>\n",
              "    <tr>\n",
              "      <th>199</th>\n",
              "      <td>200</td>\n",
              "      <td>Thunder Token</td>\n",
              "      <td>TT</td>\n",
              "      <td>$29,672,925</td>\n",
              "      <td>$0.005040</td>\n",
              "      <td>5,887,903,653 TT *</td>\n",
              "      <td>$13,013,701</td>\n",
              "      <td>3.28%</td>\n",
              "      <td>7.20%</td>\n",
              "      <td>7.14%</td>\n",
              "      <td>NaN</td>\n",
              "    </tr>\n",
              "  </tbody>\n",
              "</table>\n",
              "<p>200 rows × 11 columns</p>\n",
              "</div>"
            ],
            "text/plain": [
              "     Rank           Name Symbol  ...    % 24h     % 7d Unnamed: 10\n",
              "0       1        Bitcoin    BTC  ...    4.41%   13.43%         NaN\n",
              "1       2       Ethereum    ETH  ...    1.81%   28.91%         NaN\n",
              "2       3            XRP    XRP  ...   30.20%  121.80%         NaN\n",
              "3       4         Tether   USDT  ...    0.05%   -0.05%         NaN\n",
              "4       5   Bitcoin Cash    BCH  ...   16.42%   35.16%         NaN\n",
              "..    ...            ...    ...  ...      ...      ...         ...\n",
              "195   196           Orbs   ORBS  ...    3.21%    6.23%         NaN\n",
              "196   197    LTO Network    LTO  ...    1.27%   43.96%         NaN\n",
              "197   198           Hxro   HXRO  ...  -12.49%  -17.44%         NaN\n",
              "198   199       Bytecoin    BCN  ...   11.85%   17.67%         NaN\n",
              "199   200  Thunder Token     TT  ...    7.20%    7.14%         NaN\n",
              "\n",
              "[200 rows x 11 columns]"
            ]
          },
          "metadata": {
            "tags": []
          },
          "execution_count": 67
        }
      ]
    },
    {
      "cell_type": "code",
      "metadata": {
        "colab": {
          "base_uri": "https://localhost:8080/",
          "height": 204
        },
        "id": "ITHPsP-sqE9e",
        "outputId": "3f971771-bcef-470e-d378-ea2774d6bac1"
      },
      "source": [
        "new_df = df_html[2][['Name', 'Market Cap', 'Price', 'Volume (24h)']]\n",
        "new_df.head()"
      ],
      "execution_count": 59,
      "outputs": [
        {
          "output_type": "execute_result",
          "data": {
            "text/html": [
              "<div>\n",
              "<style scoped>\n",
              "    .dataframe tbody tr th:only-of-type {\n",
              "        vertical-align: middle;\n",
              "    }\n",
              "\n",
              "    .dataframe tbody tr th {\n",
              "        vertical-align: top;\n",
              "    }\n",
              "\n",
              "    .dataframe thead th {\n",
              "        text-align: right;\n",
              "    }\n",
              "</style>\n",
              "<table border=\"1\" class=\"dataframe\">\n",
              "  <thead>\n",
              "    <tr style=\"text-align: right;\">\n",
              "      <th></th>\n",
              "      <th>Name</th>\n",
              "      <th>Market Cap</th>\n",
              "      <th>Price</th>\n",
              "      <th>Volume (24h)</th>\n",
              "    </tr>\n",
              "  </thead>\n",
              "  <tbody>\n",
              "    <tr>\n",
              "      <th>0</th>\n",
              "      <td>Bitcoin</td>\n",
              "      <td>$356,428,077,939</td>\n",
              "      <td>$19,211.45</td>\n",
              "      <td>$56,256,801,502</td>\n",
              "    </tr>\n",
              "    <tr>\n",
              "      <th>1</th>\n",
              "      <td>Ethereum</td>\n",
              "      <td>$68,568,637,750</td>\n",
              "      <td>$603.82</td>\n",
              "      <td>$30,033,999,699</td>\n",
              "    </tr>\n",
              "    <tr>\n",
              "      <th>2</th>\n",
              "      <td>XRP</td>\n",
              "      <td>$30,503,226,041</td>\n",
              "      <td>$0.672644</td>\n",
              "      <td>$31,341,015,510</td>\n",
              "    </tr>\n",
              "    <tr>\n",
              "      <th>3</th>\n",
              "      <td>Tether</td>\n",
              "      <td>$18,650,964,219</td>\n",
              "      <td>$0.999811</td>\n",
              "      <td>$110,425,357,579</td>\n",
              "    </tr>\n",
              "    <tr>\n",
              "      <th>4</th>\n",
              "      <td>Bitcoin Cash</td>\n",
              "      <td>$6,367,003,134</td>\n",
              "      <td>$342.65</td>\n",
              "      <td>$8,621,347,407</td>\n",
              "    </tr>\n",
              "  </tbody>\n",
              "</table>\n",
              "</div>"
            ],
            "text/plain": [
              "           Name        Market Cap       Price      Volume (24h)\n",
              "0       Bitcoin  $356,428,077,939  $19,211.45   $56,256,801,502\n",
              "1      Ethereum   $68,568,637,750     $603.82   $30,033,999,699\n",
              "2           XRP   $30,503,226,041   $0.672644   $31,341,015,510\n",
              "3        Tether   $18,650,964,219   $0.999811  $110,425,357,579\n",
              "4  Bitcoin Cash    $6,367,003,134     $342.65    $8,621,347,407"
            ]
          },
          "metadata": {
            "tags": []
          },
          "execution_count": 59
        }
      ]
    },
    {
      "cell_type": "code",
      "metadata": {
        "colab": {
          "base_uri": "https://localhost:8080/",
          "height": 173
        },
        "id": "kx3xUUSNtIyd",
        "outputId": "a668f431-3db6-415d-d483-09b6ac396ef5"
      },
      "source": [
        "new_df = new_df.rename(columns = {'Name':'Nome', 'Price':'Preço', 'Volume (24h)':'Volume', 'Market Cap':'Cap de Mercado'})\n",
        "new_df.head(4)"
      ],
      "execution_count": 66,
      "outputs": [
        {
          "output_type": "execute_result",
          "data": {
            "text/html": [
              "<div>\n",
              "<style scoped>\n",
              "    .dataframe tbody tr th:only-of-type {\n",
              "        vertical-align: middle;\n",
              "    }\n",
              "\n",
              "    .dataframe tbody tr th {\n",
              "        vertical-align: top;\n",
              "    }\n",
              "\n",
              "    .dataframe thead th {\n",
              "        text-align: right;\n",
              "    }\n",
              "</style>\n",
              "<table border=\"1\" class=\"dataframe\">\n",
              "  <thead>\n",
              "    <tr style=\"text-align: right;\">\n",
              "      <th></th>\n",
              "      <th>Nome</th>\n",
              "      <th>Cap de Mercado</th>\n",
              "      <th>Preço</th>\n",
              "      <th>Volume</th>\n",
              "    </tr>\n",
              "  </thead>\n",
              "  <tbody>\n",
              "    <tr>\n",
              "      <th>0</th>\n",
              "      <td>Bitcoin</td>\n",
              "      <td>$356,428,077,939</td>\n",
              "      <td>$19,211.45</td>\n",
              "      <td>$56,256,801,502</td>\n",
              "    </tr>\n",
              "    <tr>\n",
              "      <th>1</th>\n",
              "      <td>Ethereum</td>\n",
              "      <td>$68,568,637,750</td>\n",
              "      <td>$603.82</td>\n",
              "      <td>$30,033,999,699</td>\n",
              "    </tr>\n",
              "    <tr>\n",
              "      <th>2</th>\n",
              "      <td>XRP</td>\n",
              "      <td>$30,503,226,041</td>\n",
              "      <td>$0.672644</td>\n",
              "      <td>$31,341,015,510</td>\n",
              "    </tr>\n",
              "    <tr>\n",
              "      <th>3</th>\n",
              "      <td>Tether</td>\n",
              "      <td>$18,650,964,219</td>\n",
              "      <td>$0.999811</td>\n",
              "      <td>$110,425,357,579</td>\n",
              "    </tr>\n",
              "  </tbody>\n",
              "</table>\n",
              "</div>"
            ],
            "text/plain": [
              "       Nome    Cap de Mercado       Preço            Volume\n",
              "0   Bitcoin  $356,428,077,939  $19,211.45   $56,256,801,502\n",
              "1  Ethereum   $68,568,637,750     $603.82   $30,033,999,699\n",
              "2       XRP   $30,503,226,041   $0.672644   $31,341,015,510\n",
              "3    Tether   $18,650,964,219   $0.999811  $110,425,357,579"
            ]
          },
          "metadata": {
            "tags": []
          },
          "execution_count": 66
        }
      ]
    },
    {
      "cell_type": "code",
      "metadata": {
        "id": "-kHqoYnyuzpF"
      },
      "source": [
        ""
      ],
      "execution_count": null,
      "outputs": []
    }
  ]
}